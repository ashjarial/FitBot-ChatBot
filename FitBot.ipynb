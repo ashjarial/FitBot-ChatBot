{
 "cells": [
  {
   "cell_type": "markdown",
   "metadata": {
    "id": "iwL8c_ANzHcj"
   },
   "source": [
    "**installing the langchain**\n"
   ]
  },
  {
   "cell_type": "code",
   "execution_count": 47,
   "metadata": {
    "colab": {
     "base_uri": "https://localhost:8080/"
    },
    "id": "nYNgZQiqMW-J",
    "outputId": "4ed70d1c-a0a5-4a21-9794-34f8ebb64ebd"
   },
   "outputs": [
    {
     "name": "stdout",
     "output_type": "stream",
     "text": [
      "Requirement already satisfied: langchain in c:\\users\\laptop\\anaconda3\\lib\\site-packages (0.1.12)Note: you may need to restart the kernel to use updated packages.\n",
      "\n",
      "Requirement already satisfied: PyYAML>=5.3 in c:\\users\\laptop\\anaconda3\\lib\\site-packages (from langchain) (6.0)\n",
      "Requirement already satisfied: SQLAlchemy<3,>=1.4 in c:\\users\\laptop\\anaconda3\\lib\\site-packages (from langchain) (1.4.39)\n",
      "Requirement already satisfied: aiohttp<4.0.0,>=3.8.3 in c:\\users\\laptop\\anaconda3\\lib\\site-packages (from langchain) (3.8.5)\n",
      "Requirement already satisfied: dataclasses-json<0.7,>=0.5.7 in c:\\users\\laptop\\anaconda3\\lib\\site-packages (from langchain) (0.6.4)\n",
      "Requirement already satisfied: jsonpatch<2.0,>=1.33 in c:\\users\\laptop\\anaconda3\\lib\\site-packages (from langchain) (1.33)\n",
      "Requirement already satisfied: langchain-community<0.1,>=0.0.28 in c:\\users\\laptop\\anaconda3\\lib\\site-packages (from langchain) (0.0.28)\n",
      "Requirement already satisfied: langchain-core<0.2.0,>=0.1.31 in c:\\users\\laptop\\anaconda3\\lib\\site-packages (from langchain) (0.1.32)\n",
      "Requirement already satisfied: langchain-text-splitters<0.1,>=0.0.1 in c:\\users\\laptop\\anaconda3\\lib\\site-packages (from langchain) (0.0.1)\n",
      "Requirement already satisfied: langsmith<0.2.0,>=0.1.17 in c:\\users\\laptop\\anaconda3\\lib\\site-packages (from langchain) (0.1.27)\n",
      "Requirement already satisfied: numpy<2,>=1 in c:\\users\\laptop\\anaconda3\\lib\\site-packages (from langchain) (1.24.3)\n",
      "Requirement already satisfied: pydantic<3,>=1 in c:\\users\\laptop\\anaconda3\\lib\\site-packages (from langchain) (1.10.8)\n",
      "Requirement already satisfied: requests<3,>=2 in c:\\users\\laptop\\anaconda3\\lib\\site-packages (from langchain) (2.31.0)\n",
      "Requirement already satisfied: tenacity<9.0.0,>=8.1.0 in c:\\users\\laptop\\anaconda3\\lib\\site-packages (from langchain) (8.2.2)\n",
      "Requirement already satisfied: attrs>=17.3.0 in c:\\users\\laptop\\anaconda3\\lib\\site-packages (from aiohttp<4.0.0,>=3.8.3->langchain) (22.1.0)\n",
      "Requirement already satisfied: charset-normalizer<4.0,>=2.0 in c:\\users\\laptop\\anaconda3\\lib\\site-packages (from aiohttp<4.0.0,>=3.8.3->langchain) (2.0.4)\n",
      "Requirement already satisfied: multidict<7.0,>=4.5 in c:\\users\\laptop\\anaconda3\\lib\\site-packages (from aiohttp<4.0.0,>=3.8.3->langchain) (6.0.2)\n",
      "Requirement already satisfied: async-timeout<5.0,>=4.0.0a3 in c:\\users\\laptop\\anaconda3\\lib\\site-packages (from aiohttp<4.0.0,>=3.8.3->langchain) (4.0.2)\n",
      "Requirement already satisfied: yarl<2.0,>=1.0 in c:\\users\\laptop\\anaconda3\\lib\\site-packages (from aiohttp<4.0.0,>=3.8.3->langchain) (1.8.1)\n",
      "Requirement already satisfied: frozenlist>=1.1.1 in c:\\users\\laptop\\anaconda3\\lib\\site-packages (from aiohttp<4.0.0,>=3.8.3->langchain) (1.3.3)\n",
      "Requirement already satisfied: aiosignal>=1.1.2 in c:\\users\\laptop\\anaconda3\\lib\\site-packages (from aiohttp<4.0.0,>=3.8.3->langchain) (1.2.0)\n",
      "Requirement already satisfied: marshmallow<4.0.0,>=3.18.0 in c:\\users\\laptop\\anaconda3\\lib\\site-packages (from dataclasses-json<0.7,>=0.5.7->langchain) (3.21.1)\n",
      "Requirement already satisfied: typing-inspect<1,>=0.4.0 in c:\\users\\laptop\\anaconda3\\lib\\site-packages (from dataclasses-json<0.7,>=0.5.7->langchain) (0.9.0)\n",
      "Requirement already satisfied: jsonpointer>=1.9 in c:\\users\\laptop\\anaconda3\\lib\\site-packages (from jsonpatch<2.0,>=1.33->langchain) (2.1)\n",
      "Requirement already satisfied: anyio<5,>=3 in c:\\users\\laptop\\anaconda3\\lib\\site-packages (from langchain-core<0.2.0,>=0.1.31->langchain) (3.5.0)\n",
      "Requirement already satisfied: packaging<24.0,>=23.2 in c:\\users\\laptop\\anaconda3\\lib\\site-packages (from langchain-core<0.2.0,>=0.1.31->langchain) (23.2)\n",
      "Requirement already satisfied: orjson<4.0.0,>=3.9.14 in c:\\users\\laptop\\anaconda3\\lib\\site-packages (from langsmith<0.2.0,>=0.1.17->langchain) (3.9.15)\n",
      "Requirement already satisfied: typing-extensions>=4.2.0 in c:\\users\\laptop\\anaconda3\\lib\\site-packages (from pydantic<3,>=1->langchain) (4.10.0)\n",
      "Requirement already satisfied: idna<4,>=2.5 in c:\\users\\laptop\\anaconda3\\lib\\site-packages (from requests<3,>=2->langchain) (3.4)\n",
      "Requirement already satisfied: urllib3<3,>=1.21.1 in c:\\users\\laptop\\anaconda3\\lib\\site-packages (from requests<3,>=2->langchain) (1.26.16)\n",
      "Requirement already satisfied: certifi>=2017.4.17 in c:\\users\\laptop\\anaconda3\\lib\\site-packages (from requests<3,>=2->langchain) (2023.7.22)\n",
      "Requirement already satisfied: greenlet!=0.4.17 in c:\\users\\laptop\\anaconda3\\lib\\site-packages (from SQLAlchemy<3,>=1.4->langchain) (2.0.1)\n",
      "Requirement already satisfied: sniffio>=1.1 in c:\\users\\laptop\\anaconda3\\lib\\site-packages (from anyio<5,>=3->langchain-core<0.2.0,>=0.1.31->langchain) (1.2.0)\n",
      "Requirement already satisfied: mypy-extensions>=0.3.0 in c:\\users\\laptop\\anaconda3\\lib\\site-packages (from typing-inspect<1,>=0.4.0->dataclasses-json<0.7,>=0.5.7->langchain) (1.0.0)\n"
     ]
    }
   ],
   "source": [
    "pip install langchain"
   ]
  },
  {
   "cell_type": "code",
   "execution_count": 2,
   "metadata": {},
   "outputs": [
    {
     "name": "stdout",
     "output_type": "stream",
     "text": [
      "Requirement already satisfied: langchain_google_genai in c:\\users\\laptop\\anaconda3\\lib\\site-packages (0.0.11)\n",
      "Requirement already satisfied: google-generativeai<0.5.0,>=0.4.1 in c:\\users\\laptop\\anaconda3\\lib\\site-packages (from langchain_google_genai) (0.4.1)\n",
      "Requirement already satisfied: langchain-core<0.2,>=0.1 in c:\\users\\laptop\\anaconda3\\lib\\site-packages (from langchain_google_genai) (0.1.32)\n",
      "Requirement already satisfied: google-ai-generativelanguage==0.4.0 in c:\\users\\laptop\\anaconda3\\lib\\site-packages (from google-generativeai<0.5.0,>=0.4.1->langchain_google_genai) (0.4.0)\n",
      "Requirement already satisfied: google-auth>=2.15.0 in c:\\users\\laptop\\anaconda3\\lib\\site-packages (from google-generativeai<0.5.0,>=0.4.1->langchain_google_genai) (2.28.2)\n",
      "Requirement already satisfied: google-api-core in c:\\users\\laptop\\anaconda3\\lib\\site-packages (from google-generativeai<0.5.0,>=0.4.1->langchain_google_genai) (2.17.1)\n",
      "Requirement already satisfied: protobuf in c:\\users\\laptop\\anaconda3\\lib\\site-packages (from google-generativeai<0.5.0,>=0.4.1->langchain_google_genai) (4.25.3)\n",
      "Requirement already satisfied: pydantic in c:\\users\\laptop\\anaconda3\\lib\\site-packages (from google-generativeai<0.5.0,>=0.4.1->langchain_google_genai) (1.10.8)\n",
      "Requirement already satisfied: tqdm in c:\\users\\laptop\\anaconda3\\lib\\site-packages (from google-generativeai<0.5.0,>=0.4.1->langchain_google_genai) (4.65.0)\n",
      "Requirement already satisfied: typing-extensions in c:\\users\\laptop\\anaconda3\\lib\\site-packages (from google-generativeai<0.5.0,>=0.4.1->langchain_google_genai) (4.10.0)\n",
      "Requirement already satisfied: proto-plus<2.0.0dev,>=1.22.3 in c:\\users\\laptop\\anaconda3\\lib\\site-packages (from google-ai-generativelanguage==0.4.0->google-generativeai<0.5.0,>=0.4.1->langchain_google_genai) (1.23.0)\n",
      "Requirement already satisfied: PyYAML>=5.3 in c:\\users\\laptop\\anaconda3\\lib\\site-packages (from langchain-core<0.2,>=0.1->langchain_google_genai) (6.0)\n",
      "Requirement already satisfied: anyio<5,>=3 in c:\\users\\laptop\\anaconda3\\lib\\site-packages (from langchain-core<0.2,>=0.1->langchain_google_genai) (3.5.0)\n",
      "Requirement already satisfied: jsonpatch<2.0,>=1.33 in c:\\users\\laptop\\anaconda3\\lib\\site-packages (from langchain-core<0.2,>=0.1->langchain_google_genai) (1.33)\n",
      "Requirement already satisfied: langsmith<0.2.0,>=0.1.0 in c:\\users\\laptop\\anaconda3\\lib\\site-packages (from langchain-core<0.2,>=0.1->langchain_google_genai) (0.1.27)\n",
      "Requirement already satisfied: packaging<24.0,>=23.2 in c:\\users\\laptop\\anaconda3\\lib\\site-packages (from langchain-core<0.2,>=0.1->langchain_google_genai) (23.2)\n",
      "Requirement already satisfied: requests<3,>=2 in c:\\users\\laptop\\anaconda3\\lib\\site-packages (from langchain-core<0.2,>=0.1->langchain_google_genai) (2.31.0)\n",
      "Requirement already satisfied: tenacity<9.0.0,>=8.1.0 in c:\\users\\laptop\\anaconda3\\lib\\site-packages (from langchain-core<0.2,>=0.1->langchain_google_genai) (8.2.2)\n",
      "Requirement already satisfied: idna>=2.8 in c:\\users\\laptop\\anaconda3\\lib\\site-packages (from anyio<5,>=3->langchain-core<0.2,>=0.1->langchain_google_genai) (3.4)\n",
      "Requirement already satisfied: sniffio>=1.1 in c:\\users\\laptop\\anaconda3\\lib\\site-packages (from anyio<5,>=3->langchain-core<0.2,>=0.1->langchain_google_genai) (1.2.0)\n",
      "Requirement already satisfied: cachetools<6.0,>=2.0.0 in c:\\users\\laptop\\anaconda3\\lib\\site-packages (from google-auth>=2.15.0->google-generativeai<0.5.0,>=0.4.1->langchain_google_genai) (5.3.3)\n",
      "Requirement already satisfied: pyasn1-modules>=0.2.1 in c:\\users\\laptop\\anaconda3\\lib\\site-packages (from google-auth>=2.15.0->google-generativeai<0.5.0,>=0.4.1->langchain_google_genai) (0.2.8)\n",
      "Requirement already satisfied: rsa<5,>=3.1.4 in c:\\users\\laptop\\anaconda3\\lib\\site-packages (from google-auth>=2.15.0->google-generativeai<0.5.0,>=0.4.1->langchain_google_genai) (4.9)\n",
      "Requirement already satisfied: jsonpointer>=1.9 in c:\\users\\laptop\\anaconda3\\lib\\site-packages (from jsonpatch<2.0,>=1.33->langchain-core<0.2,>=0.1->langchain_google_genai) (2.1)\n",
      "Requirement already satisfied: orjson<4.0.0,>=3.9.14 in c:\\users\\laptop\\anaconda3\\lib\\site-packages (from langsmith<0.2.0,>=0.1.0->langchain-core<0.2,>=0.1->langchain_google_genai) (3.9.15)\n",
      "Requirement already satisfied: charset-normalizer<4,>=2 in c:\\users\\laptop\\anaconda3\\lib\\site-packages (from requests<3,>=2->langchain-core<0.2,>=0.1->langchain_google_genai) (2.0.4)\n",
      "Requirement already satisfied: urllib3<3,>=1.21.1 in c:\\users\\laptop\\anaconda3\\lib\\site-packages (from requests<3,>=2->langchain-core<0.2,>=0.1->langchain_google_genai) (1.26.16)\n",
      "Requirement already satisfied: certifi>=2017.4.17 in c:\\users\\laptop\\anaconda3\\lib\\site-packages (from requests<3,>=2->langchain-core<0.2,>=0.1->langchain_google_genai) (2023.7.22)\n",
      "Requirement already satisfied: googleapis-common-protos<2.0.dev0,>=1.56.2 in c:\\users\\laptop\\anaconda3\\lib\\site-packages (from google-api-core->google-generativeai<0.5.0,>=0.4.1->langchain_google_genai) (1.63.0)\n",
      "Requirement already satisfied: colorama in c:\\users\\laptop\\anaconda3\\lib\\site-packages (from tqdm->google-generativeai<0.5.0,>=0.4.1->langchain_google_genai) (0.4.6)\n",
      "Requirement already satisfied: grpcio<2.0dev,>=1.33.2 in c:\\users\\laptop\\anaconda3\\lib\\site-packages (from google-api-core->google-generativeai<0.5.0,>=0.4.1->langchain_google_genai) (1.62.1)\n",
      "Requirement already satisfied: grpcio-status<2.0.dev0,>=1.33.2 in c:\\users\\laptop\\anaconda3\\lib\\site-packages (from google-api-core->google-generativeai<0.5.0,>=0.4.1->langchain_google_genai) (1.62.1)\n",
      "Requirement already satisfied: pyasn1<0.5.0,>=0.4.6 in c:\\users\\laptop\\anaconda3\\lib\\site-packages (from pyasn1-modules>=0.2.1->google-auth>=2.15.0->google-generativeai<0.5.0,>=0.4.1->langchain_google_genai) (0.4.8)\n",
      "Note: you may need to restart the kernel to use updated packages.\n"
     ]
    }
   ],
   "source": [
    "pip install langchain_google_genai"
   ]
  },
  {
   "cell_type": "markdown",
   "metadata": {
    "id": "zEbp30TSzTcV"
   },
   "source": [
    "**importing GoogglePalm,GooglePalmEmbeddings,CharacterTextSplitter,FAISS,PyPDFLoader,load_qa_chain**"
   ]
  },
  {
   "cell_type": "code",
   "execution_count": 1,
   "metadata": {
    "id": "5h1ZiyXXQHbA"
   },
   "outputs": [],
   "source": [
    "from langchain.llms import GooglePalm\n",
    "from langchain.embeddings import HuggingFaceInstructEmbeddings\n",
    "from langchain.text_splitter import CharacterTextSplitter\n",
    "from langchain.embeddings import GooglePalmEmbeddings\n",
    "from langchain.vectorstores import FAISS\n",
    "from langchain.document_loaders import PyPDFLoader\n",
    "from langchain.chains import RetrievalQA\n",
    "\n"
   ]
  },
  {
   "cell_type": "markdown",
   "metadata": {
    "id": "c0b9KczIzwLr"
   },
   "source": [
    "**installing pypdf, faiss-cpu**"
   ]
  },
  {
   "cell_type": "code",
   "execution_count": 2,
   "metadata": {
    "colab": {
     "base_uri": "https://localhost:8080/"
    },
    "id": "G0r6L5LlQMB1",
    "outputId": "359ed93c-01a7-4c34-d87f-666bd9fe1f05"
   },
   "outputs": [
    {
     "name": "stdout",
     "output_type": "stream",
     "text": [
      "Requirement already satisfied: pypdf in c:\\users\\laptop\\anaconda3\\lib\\site-packages (4.1.0)\n",
      "Note: you may need to restart the kernel to use updated packages.\n"
     ]
    }
   ],
   "source": [
    "pip install pypdf\n"
   ]
  },
  {
   "cell_type": "code",
   "execution_count": 50,
   "metadata": {},
   "outputs": [
    {
     "name": "stdout",
     "output_type": "stream",
     "text": [
      "Requirement already satisfied: faiss-cpu in c:\\users\\laptop\\anaconda3\\lib\\site-packages (1.8.0)\n",
      "Requirement already satisfied: numpy in c:\\users\\laptop\\anaconda3\\lib\\site-packages (from faiss-cpu) (1.24.3)\n",
      "Note: you may need to restart the kernel to use updated packages.\n"
     ]
    }
   ],
   "source": [
    "pip install faiss-cpu"
   ]
  },
  {
   "cell_type": "markdown",
   "metadata": {
    "id": "fPnlA0470s2O"
   },
   "source": [
    "**\"Python Code for Loading and Parsing PDF Documents: Extracting Content from 'final.pdf'\"**"
   ]
  },
  {
   "cell_type": "code",
   "execution_count": 2,
   "metadata": {
    "id": "l05ajXfwQ8H-"
   },
   "outputs": [],
   "source": [
    "loader = PyPDFLoader('final.pdf')\n",
    "documents = loader.load()"
   ]
  },
  {
   "cell_type": "markdown",
   "metadata": {
    "id": "r9t5aVHh0zTp"
   },
   "source": [
    "**\"Efficiently Concatenate Document Page Content in Python for Comprehensive Text Analysis\"**"
   ]
  },
  {
   "cell_type": "code",
   "execution_count": 3,
   "metadata": {
    "id": "4WqXKzw8bjcs"
   },
   "outputs": [],
   "source": [
    "raw_text = ''\n",
    "for i, doc in enumerate(documents):\n",
    "      text = doc.page_content\n",
    "      if text:\n",
    "          raw_text += text"
   ]
  },
  {
   "cell_type": "markdown",
   "metadata": {
    "id": "FgQylJCZ1jqw"
   },
   "source": [
    "**\"Split Large Text into Manageable Chunks for Processing\"**"
   ]
  },
  {
   "cell_type": "code",
   "execution_count": 6,
   "metadata": {
    "id": "9Zh691H2b1dR"
   },
   "outputs": [],
   "source": [
    "text_splitter = CharacterTextSplitter(\n",
    "separator = '\\n',\n",
    "chunk_size = 1000,\n",
    "chunk_overlap = 40,\n",
    "length_function = len,\n",
    ")\n",
    "texts = text_splitter.split_text(raw_text)"
   ]
  },
  {
   "cell_type": "markdown",
   "metadata": {
    "id": "P6r-1Sb61wvu"
   },
   "source": [
    "**\"Generate Google's PALM Embeddings Using API Key\"**"
   ]
  },
  {
   "cell_type": "code",
   "execution_count": 7,
   "metadata": {},
   "outputs": [
    {
     "name": "stderr",
     "output_type": "stream",
     "text": [
      "c:\\Users\\Laptop\\AppData\\Local\\Programs\\Python\\Python312\\Lib\\site-packages\\tqdm\\auto.py:21: TqdmWarning: IProgress not found. Please update jupyter and ipywidgets. See https://ipywidgets.readthedocs.io/en/stable/user_install.html\n",
      "  from .autonotebook import tqdm as notebook_tqdm\n"
     ]
    }
   ],
   "source": [
    "from secret1 import GOOGLE_API as google_api\n",
    "embeddings=GooglePalmEmbeddings(google_api_key=google_api)\n"
   ]
  },
  {
   "cell_type": "markdown",
   "metadata": {
    "id": "2DKngna211N7"
   },
   "source": [
    "**\"Perform Document Search Using FAISS with Embeddings\"**"
   ]
  },
  {
   "cell_type": "code",
   "execution_count": 8,
   "metadata": {
    "id": "aENPi7ITc2se",
    "scrolled": true
   },
   "outputs": [],
   "source": [
    "db = FAISS.from_texts(texts, embeddings)\n",
    " "
   ]
  },
  {
   "cell_type": "code",
   "execution_count": 9,
   "metadata": {},
   "outputs": [],
   "source": [
    "# Expose index to the retriever\n",
    "retriever = db.as_retriever(search_type=\"similarity\", search_kwargs={\"k\": 2})"
   ]
  },
  {
   "cell_type": "markdown",
   "metadata": {
    "id": "a3BSwVGM1-ZI"
   },
   "source": [
    "**\"\"Python Code Integrates Google API for Retrieval-based QA with Source Document Retrieval\"\"**"
   ]
  },
  {
   "cell_type": "code",
   "execution_count": 11,
   "metadata": {},
   "outputs": [],
   "source": [
    "llm=GooglePalm(google_api_key=google_api)\n",
    "qa = RetrievalQA.from_chain_type(\n",
    "    llm=llm, chain_type=\"stuff\", retriever=retriever, return_source_documents=True\n",
    ")\n",
    "\n"
   ]
  },
  {
   "cell_type": "markdown",
   "metadata": {
    "id": "gmgQJuT62gdq"
   },
   "source": [
    "**This code calculates BMI based on user input and provides fitness-related responses until the user chooses to exit.**"
   ]
  },
  {
   "cell_type": "code",
   "execution_count": 12,
   "metadata": {
    "colab": {
     "background_save": true,
     "base_uri": "https://localhost:8080/",
     "height": 1000
    },
    "id": "hyyI2bqphaQu",
    "outputId": "aa706aa1-6945-4d54-d406-019a18491bef"
   },
   "outputs": [
    {
     "name": "stdout",
     "output_type": "stream",
     "text": [
      "Lets start your fitness journey!\n",
      "FitBot: Overweight\n",
      "FitBot: Scrambled eggs with spinach and whole grain toast\n",
      "FitBot: Monday:\n",
      "- Scrambled eggs with spinach and whole grain toast\n",
      "- Chickpea salad with cucumber, cherry tomatoes, and lemon -tahini dressing\n",
      "- Rice cakes with avocado slices and sea salt\n",
      "- Grilled shrimp skewers with quinoa and roasted vegetables\n",
      "\n",
      "Tuesday:\n",
      "- Breakfast burrito with scrambled eggs, black beans, and salsa\n",
      "- Tuna salad with mixed greens, olives, and balsamic vinaigrette\n",
      "- Peanut butter on whole grain crackers\n",
      "- Grilled steak with sweet potato wedges and sautéed spinach\n",
      "FitBot: Monday:\n",
      "- Breakfast: Scrambled eggs with spinach and whole grain toast\n",
      "- Lunch: Chickpea salad with cucumber, cherry tomatoes, and lemon-tahini dressing\n",
      "- Snack: Rice cakes with avocado slices and sea salt\n",
      "- Dinner: Grilled shrimp skewers with quinoa and roasted vegetables\n",
      "\n",
      "Tuesday:\n",
      "- Breakfast: Smoothie bowl with mixed berries, spinach, almond milk, and chia seeds\n",
      "- Lunch: Tuna salad with mixed greens, olives, and balsamic vinaigrette\n",
      "- Snack: Peanut butter on whole grain crackers\n",
      "- Dinner: Grilled steak with sweet potato wedges and sautéed spinach\n",
      "------------------------------------------YOUR CHAT HISTORY--------------------------------------------------------\n",
      "Question1:BMI is 25.95\n",
      " Answer1:Overweight\n",
      "\n",
      "Question2:what should i eat on monday\n",
      " Answer2:Scrambled eggs with spinach and whole grain toast\n",
      "\n",
      "Question3:on tuesday\n",
      " Answer3:Monday:\n",
      "- Scrambled eggs with spinach and whole grain toast\n",
      "- Chickpea salad with cucumber, cherry tomatoes, and lemon -tahini dressing\n",
      "- Rice cakes with avocado slices and sea salt\n",
      "- Grilled shrimp skewers with quinoa and roasted vegetables\n",
      "\n",
      "Tuesday:\n",
      "- Breakfast burrito with scrambled eggs, black beans, and salsa\n",
      "- Tuna salad with mixed greens, olives, and balsamic vinaigrette\n",
      "- Peanut butter on whole grain crackers\n",
      "- Grilled steak with sweet potato wedges and sautéed spinach\n",
      "\n",
      "Question4:exit4\n",
      " Answer4:Monday:\n",
      "- Breakfast: Scrambled eggs with spinach and whole grain toast\n",
      "- Lunch: Chickpea salad with cucumber, cherry tomatoes, and lemon-tahini dressing\n",
      "- Snack: Rice cakes with avocado slices and sea salt\n",
      "- Dinner: Grilled shrimp skewers with quinoa and roasted vegetables\n",
      "\n",
      "Tuesday:\n",
      "- Breakfast: Smoothie bowl with mixed berries, spinach, almond milk, and chia seeds\n",
      "- Lunch: Tuna salad with mixed greens, olives, and balsamic vinaigrette\n",
      "- Snack: Peanut butter on whole grain crackers\n",
      "- Dinner: Grilled steak with sweet potato wedges and sautéed spinach\n",
      "\n"
     ]
    }
   ],
   "source": [
    "query=\"\"\n",
    "chat_history={};\n",
    "print(\"Lets start your fitness journey!\")\n",
    "weight = int(input(\"Firstly ! Enter your weight: \"))\n",
    "height = int(input(\"your height in cm: \"))\n",
    "bmi = round((weight / (height)**2)*10000,2) \n",
    "user_input = f\"BMI is {bmi}\"\n",
    "query=user_input\n",
    "while query!='exit':\n",
    "    try:\n",
    "        result1 = qa.invoke(({\"query\": query}))\n",
    "        print(\"FitBot:\",result1['result'])\n",
    "    except:\n",
    "        print(\"Answer not found\")\n",
    "    chat_history[user_input]=result1['result'];\n",
    "    user_input=input(\"YOU:\").strip();\n",
    "    if user_input=='exit':\n",
    "        break;\n",
    "    query=query+user_input;\n",
    "    query=query.strip();   \n",
    "    \n",
    "print(\"------------------------------------------YOUR CHAT HISTORY--------------------------------------------------------\")\n",
    "question=1;\n",
    "for key,value in chat_history.items():\n",
    "    print(f\"Question{question}:{key}\\n Answer{question}:{value}\\n\")\n",
    "    question+=1;"
   ]
  },
  {
   "cell_type": "code",
   "execution_count": null,
   "metadata": {},
   "outputs": [],
   "source": []
  }
 ],
 "metadata": {
  "colab": {
   "provenance": []
  },
  "kernelspec": {
   "display_name": "Python 3 (ipykernel)",
   "language": "python",
   "name": "python3"
  },
  "language_info": {
   "codemirror_mode": {
    "name": "ipython",
    "version": 3
   },
   "file_extension": ".py",
   "mimetype": "text/x-python",
   "name": "python",
   "nbconvert_exporter": "python",
   "pygments_lexer": "ipython3",
   "version": "3.12.2"
  }
 },
 "nbformat": 4,
 "nbformat_minor": 1
}
